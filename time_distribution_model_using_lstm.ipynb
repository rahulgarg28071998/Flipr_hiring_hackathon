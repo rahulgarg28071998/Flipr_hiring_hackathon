{
 "cells": [
  {
   "cell_type": "code",
   "execution_count": 1,
   "metadata": {},
   "outputs": [],
   "source": [
    "import pandas as pd"
   ]
  },
  {
   "cell_type": "code",
   "execution_count": 2,
   "metadata": {},
   "outputs": [],
   "source": [
    "time = pd.read_excel(\"Train_Time.xlsx\")"
   ]
  },
  {
   "cell_type": "code",
   "execution_count": 3,
   "metadata": {},
   "outputs": [
    {
     "data": {
      "text/html": [
       "<div>\n",
       "<style scoped>\n",
       "    .dataframe tbody tr th:only-of-type {\n",
       "        vertical-align: middle;\n",
       "    }\n",
       "\n",
       "    .dataframe tbody tr th {\n",
       "        vertical-align: top;\n",
       "    }\n",
       "\n",
       "    .dataframe thead th {\n",
       "        text-align: right;\n",
       "    }\n",
       "</style>\n",
       "<table border=\"1\" class=\"dataframe\">\n",
       "  <thead>\n",
       "    <tr style=\"text-align: right;\">\n",
       "      <th></th>\n",
       "      <th>people_ID</th>\n",
       "      <th>20</th>\n",
       "      <th>21</th>\n",
       "      <th>22</th>\n",
       "      <th>23</th>\n",
       "      <th>24</th>\n",
       "      <th>25</th>\n",
       "      <th>26</th>\n",
       "    </tr>\n",
       "  </thead>\n",
       "  <tbody>\n",
       "    <tr>\n",
       "      <th>0</th>\n",
       "      <td>1</td>\n",
       "      <td>441</td>\n",
       "      <td>544.2</td>\n",
       "      <td>669.64</td>\n",
       "      <td>821.368</td>\n",
       "      <td>1002.2416</td>\n",
       "      <td>1215.68992</td>\n",
       "      <td>1472.627904</td>\n",
       "    </tr>\n",
       "    <tr>\n",
       "      <th>1</th>\n",
       "      <td>2</td>\n",
       "      <td>151</td>\n",
       "      <td>197.2</td>\n",
       "      <td>253.24</td>\n",
       "      <td>321.688</td>\n",
       "      <td>399.9256</td>\n",
       "      <td>492.91072</td>\n",
       "      <td>606.892864</td>\n",
       "    </tr>\n",
       "    <tr>\n",
       "      <th>2</th>\n",
       "      <td>3</td>\n",
       "      <td>416</td>\n",
       "      <td>515.2</td>\n",
       "      <td>632.44</td>\n",
       "      <td>776.728</td>\n",
       "      <td>947.7736</td>\n",
       "      <td>1150.32832</td>\n",
       "      <td>1395.793984</td>\n",
       "    </tr>\n",
       "    <tr>\n",
       "      <th>3</th>\n",
       "      <td>4</td>\n",
       "      <td>410</td>\n",
       "      <td>506.0</td>\n",
       "      <td>621.40</td>\n",
       "      <td>761.880</td>\n",
       "      <td>928.1560</td>\n",
       "      <td>1126.78720</td>\n",
       "      <td>1368.344640</td>\n",
       "    </tr>\n",
       "    <tr>\n",
       "      <th>4</th>\n",
       "      <td>5</td>\n",
       "      <td>390</td>\n",
       "      <td>483.0</td>\n",
       "      <td>595.00</td>\n",
       "      <td>730.200</td>\n",
       "      <td>892.8400</td>\n",
       "      <td>1084.40800</td>\n",
       "      <td>1315.889600</td>\n",
       "    </tr>\n",
       "  </tbody>\n",
       "</table>\n",
       "</div>"
      ],
      "text/plain": [
       "   people_ID   20     21      22       23         24          25           26\n",
       "0          1  441  544.2  669.64  821.368  1002.2416  1215.68992  1472.627904\n",
       "1          2  151  197.2  253.24  321.688   399.9256   492.91072   606.892864\n",
       "2          3  416  515.2  632.44  776.728   947.7736  1150.32832  1395.793984\n",
       "3          4  410  506.0  621.40  761.880   928.1560  1126.78720  1368.344640\n",
       "4          5  390  483.0  595.00  730.200   892.8400  1084.40800  1315.889600"
      ]
     },
     "execution_count": 3,
     "metadata": {},
     "output_type": "execute_result"
    }
   ],
   "source": [
    "time.head()"
   ]
  },
  {
   "cell_type": "code",
   "execution_count": 4,
   "metadata": {},
   "outputs": [
    {
     "data": {
      "text/html": [
       "<div>\n",
       "<style scoped>\n",
       "    .dataframe tbody tr th:only-of-type {\n",
       "        vertical-align: middle;\n",
       "    }\n",
       "\n",
       "    .dataframe tbody tr th {\n",
       "        vertical-align: top;\n",
       "    }\n",
       "\n",
       "    .dataframe thead th {\n",
       "        text-align: right;\n",
       "    }\n",
       "</style>\n",
       "<table border=\"1\" class=\"dataframe\">\n",
       "  <thead>\n",
       "    <tr style=\"text-align: right;\">\n",
       "      <th></th>\n",
       "      <th>people_ID</th>\n",
       "      <th>20</th>\n",
       "      <th>21</th>\n",
       "      <th>22</th>\n",
       "      <th>23</th>\n",
       "      <th>24</th>\n",
       "      <th>25</th>\n",
       "      <th>26</th>\n",
       "    </tr>\n",
       "  </thead>\n",
       "  <tbody>\n",
       "    <tr>\n",
       "      <th>count</th>\n",
       "      <td>10714.000000</td>\n",
       "      <td>10714.000000</td>\n",
       "      <td>10714.000000</td>\n",
       "      <td>10714.000000</td>\n",
       "      <td>10714.000000</td>\n",
       "      <td>10714.000000</td>\n",
       "      <td>10714.000000</td>\n",
       "      <td>10714.000000</td>\n",
       "    </tr>\n",
       "    <tr>\n",
       "      <th>mean</th>\n",
       "      <td>10084.893784</td>\n",
       "      <td>278.877357</td>\n",
       "      <td>349.147508</td>\n",
       "      <td>434.360993</td>\n",
       "      <td>537.435133</td>\n",
       "      <td>660.177788</td>\n",
       "      <td>805.213345</td>\n",
       "      <td>981.255343</td>\n",
       "    </tr>\n",
       "    <tr>\n",
       "      <th>std</th>\n",
       "      <td>7108.663645</td>\n",
       "      <td>97.945646</td>\n",
       "      <td>117.553040</td>\n",
       "      <td>141.053939</td>\n",
       "      <td>169.284924</td>\n",
       "      <td>203.155177</td>\n",
       "      <td>243.786212</td>\n",
       "      <td>292.538346</td>\n",
       "    </tr>\n",
       "    <tr>\n",
       "      <th>min</th>\n",
       "      <td>1.000000</td>\n",
       "      <td>110.000000</td>\n",
       "      <td>145.000000</td>\n",
       "      <td>188.200000</td>\n",
       "      <td>240.440000</td>\n",
       "      <td>304.228000</td>\n",
       "      <td>378.073600</td>\n",
       "      <td>468.461120</td>\n",
       "    </tr>\n",
       "    <tr>\n",
       "      <th>25%</th>\n",
       "      <td>2679.250000</td>\n",
       "      <td>194.000000</td>\n",
       "      <td>247.800000</td>\n",
       "      <td>312.760000</td>\n",
       "      <td>391.384000</td>\n",
       "      <td>484.918600</td>\n",
       "      <td>594.902320</td>\n",
       "      <td>729.203328</td>\n",
       "    </tr>\n",
       "    <tr>\n",
       "      <th>50%</th>\n",
       "      <td>10003.500000</td>\n",
       "      <td>276.000000</td>\n",
       "      <td>346.200000</td>\n",
       "      <td>430.840000</td>\n",
       "      <td>533.064000</td>\n",
       "      <td>654.822400</td>\n",
       "      <td>798.786880</td>\n",
       "      <td>973.388672</td>\n",
       "    </tr>\n",
       "    <tr>\n",
       "      <th>75%</th>\n",
       "      <td>15141.750000</td>\n",
       "      <td>364.000000</td>\n",
       "      <td>451.000000</td>\n",
       "      <td>557.260000</td>\n",
       "      <td>685.136000</td>\n",
       "      <td>837.211600</td>\n",
       "      <td>1017.653920</td>\n",
       "      <td>1236.308736</td>\n",
       "    </tr>\n",
       "    <tr>\n",
       "      <th>max</th>\n",
       "      <td>22695.000000</td>\n",
       "      <td>450.000000</td>\n",
       "      <td>556.000000</td>\n",
       "      <td>683.800000</td>\n",
       "      <td>838.360000</td>\n",
       "      <td>1020.904000</td>\n",
       "      <td>1238.084800</td>\n",
       "      <td>1501.798080</td>\n",
       "    </tr>\n",
       "  </tbody>\n",
       "</table>\n",
       "</div>"
      ],
      "text/plain": [
       "          people_ID            20            21            22            23  \\\n",
       "count  10714.000000  10714.000000  10714.000000  10714.000000  10714.000000   \n",
       "mean   10084.893784    278.877357    349.147508    434.360993    537.435133   \n",
       "std     7108.663645     97.945646    117.553040    141.053939    169.284924   \n",
       "min        1.000000    110.000000    145.000000    188.200000    240.440000   \n",
       "25%     2679.250000    194.000000    247.800000    312.760000    391.384000   \n",
       "50%    10003.500000    276.000000    346.200000    430.840000    533.064000   \n",
       "75%    15141.750000    364.000000    451.000000    557.260000    685.136000   \n",
       "max    22695.000000    450.000000    556.000000    683.800000    838.360000   \n",
       "\n",
       "                 24            25            26  \n",
       "count  10714.000000  10714.000000  10714.000000  \n",
       "mean     660.177788    805.213345    981.255343  \n",
       "std      203.155177    243.786212    292.538346  \n",
       "min      304.228000    378.073600    468.461120  \n",
       "25%      484.918600    594.902320    729.203328  \n",
       "50%      654.822400    798.786880    973.388672  \n",
       "75%      837.211600   1017.653920   1236.308736  \n",
       "max     1020.904000   1238.084800   1501.798080  "
      ]
     },
     "execution_count": 4,
     "metadata": {},
     "output_type": "execute_result"
    }
   ],
   "source": [
    "time.describe()"
   ]
  },
  {
   "cell_type": "code",
   "execution_count": 5,
   "metadata": {},
   "outputs": [
    {
     "name": "stdout",
     "output_type": "stream",
     "text": [
      "<class 'pandas.core.frame.DataFrame'>\n",
      "RangeIndex: 10714 entries, 0 to 10713\n",
      "Data columns (total 8 columns):\n",
      "people_ID    10714 non-null int64\n",
      "20           10714 non-null int64\n",
      "21           10714 non-null float64\n",
      "22           10714 non-null float64\n",
      "23           10714 non-null float64\n",
      "24           10714 non-null float64\n",
      "25           10714 non-null float64\n",
      "26           10714 non-null float64\n",
      "dtypes: float64(6), int64(2)\n",
      "memory usage: 669.7 KB\n"
     ]
    }
   ],
   "source": [
    "time.info()"
   ]
  },
  {
   "cell_type": "code",
   "execution_count": 6,
   "metadata": {},
   "outputs": [
    {
     "name": "stderr",
     "output_type": "stream",
     "text": [
      "Using TensorFlow backend.\n"
     ]
    }
   ],
   "source": [
    "from numpy import array\n",
    "from keras.models import Sequential\n",
    "from keras.layers import LSTM\n",
    "from keras.layers import Dense\n"
   ]
  },
  {
   "cell_type": "code",
   "execution_count": 7,
   "metadata": {},
   "outputs": [
    {
     "data": {
      "text/html": [
       "<div>\n",
       "<style scoped>\n",
       "    .dataframe tbody tr th:only-of-type {\n",
       "        vertical-align: middle;\n",
       "    }\n",
       "\n",
       "    .dataframe tbody tr th {\n",
       "        vertical-align: top;\n",
       "    }\n",
       "\n",
       "    .dataframe thead th {\n",
       "        text-align: right;\n",
       "    }\n",
       "</style>\n",
       "<table border=\"1\" class=\"dataframe\">\n",
       "  <thead>\n",
       "    <tr style=\"text-align: right;\">\n",
       "      <th></th>\n",
       "      <th>20</th>\n",
       "      <th>21</th>\n",
       "      <th>22</th>\n",
       "      <th>23</th>\n",
       "      <th>24</th>\n",
       "      <th>25</th>\n",
       "      <th>26</th>\n",
       "    </tr>\n",
       "  </thead>\n",
       "  <tbody>\n",
       "    <tr>\n",
       "      <th>0</th>\n",
       "      <td>441</td>\n",
       "      <td>544.2</td>\n",
       "      <td>669.64</td>\n",
       "      <td>821.368</td>\n",
       "      <td>1002.2416</td>\n",
       "      <td>1215.68992</td>\n",
       "      <td>1472.627904</td>\n",
       "    </tr>\n",
       "    <tr>\n",
       "      <th>1</th>\n",
       "      <td>151</td>\n",
       "      <td>197.2</td>\n",
       "      <td>253.24</td>\n",
       "      <td>321.688</td>\n",
       "      <td>399.9256</td>\n",
       "      <td>492.91072</td>\n",
       "      <td>606.892864</td>\n",
       "    </tr>\n",
       "    <tr>\n",
       "      <th>2</th>\n",
       "      <td>416</td>\n",
       "      <td>515.2</td>\n",
       "      <td>632.44</td>\n",
       "      <td>776.728</td>\n",
       "      <td>947.7736</td>\n",
       "      <td>1150.32832</td>\n",
       "      <td>1395.793984</td>\n",
       "    </tr>\n",
       "    <tr>\n",
       "      <th>3</th>\n",
       "      <td>410</td>\n",
       "      <td>506.0</td>\n",
       "      <td>621.40</td>\n",
       "      <td>761.880</td>\n",
       "      <td>928.1560</td>\n",
       "      <td>1126.78720</td>\n",
       "      <td>1368.344640</td>\n",
       "    </tr>\n",
       "    <tr>\n",
       "      <th>4</th>\n",
       "      <td>390</td>\n",
       "      <td>483.0</td>\n",
       "      <td>595.00</td>\n",
       "      <td>730.200</td>\n",
       "      <td>892.8400</td>\n",
       "      <td>1084.40800</td>\n",
       "      <td>1315.889600</td>\n",
       "    </tr>\n",
       "  </tbody>\n",
       "</table>\n",
       "</div>"
      ],
      "text/plain": [
       "    20     21      22       23         24          25           26\n",
       "0  441  544.2  669.64  821.368  1002.2416  1215.68992  1472.627904\n",
       "1  151  197.2  253.24  321.688   399.9256   492.91072   606.892864\n",
       "2  416  515.2  632.44  776.728   947.7736  1150.32832  1395.793984\n",
       "3  410  506.0  621.40  761.880   928.1560  1126.78720  1368.344640\n",
       "4  390  483.0  595.00  730.200   892.8400  1084.40800  1315.889600"
      ]
     },
     "execution_count": 7,
     "metadata": {},
     "output_type": "execute_result"
    }
   ],
   "source": [
    "time = time.drop('people_ID',axis=1)\n",
    "time.head()"
   ]
  },
  {
   "cell_type": "code",
   "execution_count": 8,
   "metadata": {},
   "outputs": [
    {
     "data": {
      "text/plain": [
       "Index([20, 21, 22, 23, 24, 25, 26], dtype='object')"
      ]
     },
     "execution_count": 8,
     "metadata": {},
     "output_type": "execute_result"
    }
   ],
   "source": [
    "time.columns"
   ]
  },
  {
   "cell_type": "code",
   "execution_count": 16,
   "metadata": {},
   "outputs": [],
   "source": [
    "y = time[26]\n",
    "x = time[[20, 21, 22, 23, 24, 25]]"
   ]
  },
  {
   "cell_type": "code",
   "execution_count": 17,
   "metadata": {},
   "outputs": [
    {
     "name": "stdout",
     "output_type": "stream",
     "text": [
      "(10714, 6) (10714,)\n"
     ]
    }
   ],
   "source": [
    "print(x.shape,y.shape)"
   ]
  },
  {
   "cell_type": "code",
   "execution_count": 20,
   "metadata": {},
   "outputs": [
    {
     "data": {
      "text/plain": [
       "3.603572323390347"
      ]
     },
     "execution_count": 20,
     "metadata": {},
     "output_type": "execute_result"
    }
   ],
   "source": [
    "ratio = y/x[20]\n",
    "ratio.mean()"
   ]
  },
  {
   "cell_type": "code",
   "execution_count": 21,
   "metadata": {},
   "outputs": [
    {
     "data": {
      "text/plain": [
       "2.950991942058652"
      ]
     },
     "execution_count": 21,
     "metadata": {},
     "output_type": "execute_result"
    }
   ],
   "source": [
    "ratio = x[25]/x[20]\n",
    "ratio.mean()"
   ]
  },
  {
   "cell_type": "code",
   "execution_count": 22,
   "metadata": {},
   "outputs": [
    {
     "data": {
      "text/plain": [
       "2.4141133470723783"
      ]
     },
     "execution_count": 22,
     "metadata": {},
     "output_type": "execute_result"
    }
   ],
   "source": [
    "ratio = x[24]/x[20]\n",
    "ratio.mean()"
   ]
  },
  {
   "cell_type": "code",
   "execution_count": 23,
   "metadata": {},
   "outputs": [
    {
     "data": {
      "text/plain": [
       "1.9589126321453347"
      ]
     },
     "execution_count": 23,
     "metadata": {},
     "output_type": "execute_result"
    }
   ],
   "source": [
    "ratio = x[23]/x[20]\n",
    "ratio.mean()"
   ]
  },
  {
   "cell_type": "code",
   "execution_count": 24,
   "metadata": {},
   "outputs": [
    {
     "data": {
      "text/plain": [
       "1.576300234214326"
      ]
     },
     "execution_count": 24,
     "metadata": {},
     "output_type": "execute_result"
    }
   ],
   "source": [
    "ratio = x[22]/x[20]\n",
    "ratio.mean()"
   ]
  },
  {
   "cell_type": "code",
   "execution_count": 25,
   "metadata": {},
   "outputs": [
    {
     "data": {
      "text/plain": [
       "1.26025452545262"
      ]
     },
     "execution_count": 25,
     "metadata": {},
     "output_type": "execute_result"
    }
   ],
   "source": [
    "ratio = x[21]/x[20]\n",
    "ratio.mean()"
   ]
  },
  {
   "cell_type": "code",
   "execution_count": 39,
   "metadata": {},
   "outputs": [
    {
     "data": {
      "text/plain": [
       "0.652580381331695"
      ]
     },
     "execution_count": 39,
     "metadata": {},
     "output_type": "execute_result"
    }
   ],
   "source": [
    "3.603572323390347-2.950991942058652"
   ]
  },
  {
   "cell_type": "code",
   "execution_count": 40,
   "metadata": {},
   "outputs": [
    {
     "data": {
      "text/plain": [
       "0.5368785949862738"
      ]
     },
     "execution_count": 40,
     "metadata": {},
     "output_type": "execute_result"
    }
   ],
   "source": [
    "2.950991942058652-2.4141133470723783"
   ]
  },
  {
   "cell_type": "code",
   "execution_count": 41,
   "metadata": {},
   "outputs": [
    {
     "data": {
      "text/plain": [
       "0.4552007149270436"
      ]
     },
     "execution_count": 41,
     "metadata": {},
     "output_type": "execute_result"
    }
   ],
   "source": [
    "2.4141133470723783-1.9589126321453347"
   ]
  },
  {
   "cell_type": "code",
   "execution_count": 42,
   "metadata": {},
   "outputs": [
    {
     "data": {
      "text/plain": [
       "0.38261239793100876"
      ]
     },
     "execution_count": 42,
     "metadata": {},
     "output_type": "execute_result"
    }
   ],
   "source": [
    "1.9589126321453347-1.576300234214326"
   ]
  },
  {
   "cell_type": "code",
   "execution_count": 43,
   "metadata": {},
   "outputs": [
    {
     "data": {
      "text/plain": [
       "0.3160457087617059"
      ]
     },
     "execution_count": 43,
     "metadata": {},
     "output_type": "execute_result"
    }
   ],
   "source": [
    "1.576300234214326-1.26025452545262"
   ]
  },
  {
   "cell_type": "code",
   "execution_count": 32,
   "metadata": {},
   "outputs": [
    {
     "data": {
      "text/plain": [
       "[0.32, 0.39, 0.45, 0.54, 0.65]"
      ]
     },
     "execution_count": 32,
     "metadata": {},
     "output_type": "execute_result"
    }
   ],
   "source": [
    "[.32,.39,.45,.54,.65]"
   ]
  },
  {
   "cell_type": "code",
   "execution_count": 38,
   "metadata": {},
   "outputs": [
    {
     "data": {
      "text/plain": [
       "0.08"
      ]
     },
     "execution_count": 38,
     "metadata": {},
     "output_type": "execute_result"
    }
   ],
   "source": [
    "p=(0.07+0.06+0.08+0.11)/4\n",
    "p"
   ]
  },
  {
   "cell_type": "code",
   "execution_count": 58,
   "metadata": {},
   "outputs": [],
   "source": [
    "ratio_final = 0.65+0.09+3.603572323390347"
   ]
  },
  {
   "cell_type": "code",
   "execution_count": 59,
   "metadata": {},
   "outputs": [
    {
     "data": {
      "text/plain": [
       "4.343572323390347"
      ]
     },
     "execution_count": 59,
     "metadata": {},
     "output_type": "execute_result"
    }
   ],
   "source": [
    "ratio_final"
   ]
  },
  {
   "cell_type": "code",
   "execution_count": 60,
   "metadata": {},
   "outputs": [],
   "source": [
    "x_27 = x[20]*ratio_final"
   ]
  },
  {
   "cell_type": "code",
   "execution_count": 61,
   "metadata": {},
   "outputs": [
    {
     "data": {
      "text/plain": [
       "0        1915.515395\n",
       "1         655.879421\n",
       "2        1806.926087\n",
       "3        1780.864653\n",
       "4        1693.993206\n",
       "5        1689.649634\n",
       "6        1398.630288\n",
       "7         842.653031\n",
       "8        1346.507420\n",
       "9        1051.144502\n",
       "10       1620.152477\n",
       "11        833.965886\n",
       "12       1750.459646\n",
       "13        521.228679\n",
       "14       1659.244628\n",
       "15       1038.113785\n",
       "16        864.370892\n",
       "17        790.530163\n",
       "18        786.186591\n",
       "19        955.585911\n",
       "20       1068.518792\n",
       "21        955.585911\n",
       "22       1802.582514\n",
       "23        881.745182\n",
       "24        642.848704\n",
       "25       1654.901055\n",
       "26       1090.236653\n",
       "27        803.560880\n",
       "28       1585.403898\n",
       "29       1759.146791\n",
       "            ...     \n",
       "10684    1785.208225\n",
       "10685     538.602968\n",
       "10686    1311.758842\n",
       "10687    1850.361810\n",
       "10688    1715.711068\n",
       "10689    1685.306061\n",
       "10690     647.192276\n",
       "10691    1815.613231\n",
       "10692    1016.395924\n",
       "10693     690.627999\n",
       "10694    1872.079671\n",
       "10695    1077.205936\n",
       "10696     629.817987\n",
       "10697     946.898766\n",
       "10698    1615.808904\n",
       "10699    1507.219596\n",
       "10700    1646.213911\n",
       "10701    1111.954515\n",
       "10702    1811.269659\n",
       "10703    1689.649634\n",
       "10704    1472.471018\n",
       "10705    1046.800930\n",
       "10706     794.873735\n",
       "10707    1290.040980\n",
       "10708    1724.398212\n",
       "10709     582.038691\n",
       "10710    1680.962489\n",
       "10711     768.812301\n",
       "10712    1528.937458\n",
       "10713     786.186591\n",
       "Name: 20, Length: 10714, dtype: float64"
      ]
     },
     "execution_count": 61,
     "metadata": {},
     "output_type": "execute_result"
    }
   ],
   "source": [
    "x_27"
   ]
  },
  {
   "cell_type": "code",
   "execution_count": 63,
   "metadata": {},
   "outputs": [],
   "source": [
    "test = pd.read_csv(\"Test_Clean.csv\")"
   ]
  },
  {
   "cell_type": "code",
   "execution_count": 65,
   "metadata": {},
   "outputs": [],
   "source": [
    "test[\"Diuresis\"]=test[\"Diuresis\"]*ratio_final"
   ]
  },
  {
   "cell_type": "code",
   "execution_count": 67,
   "metadata": {},
   "outputs": [],
   "source": [
    "test.to_csv(\"Test_27_clean.csv\")"
   ]
  },
  {
   "cell_type": "code",
   "execution_count": 68,
   "metadata": {},
   "outputs": [
    {
     "data": {
      "text/plain": [
       "0        1685.306061\n",
       "1        1776.521080\n",
       "2        1911.171822\n",
       "3         894.775899\n",
       "4         994.678062\n",
       "5        1476.814590\n",
       "6         764.468729\n",
       "7        1246.605257\n",
       "8        1620.152477\n",
       "9        1919.858967\n",
       "10       1659.244628\n",
       "11       1641.870338\n",
       "12       1220.543823\n",
       "13        786.186591\n",
       "14        747.094440\n",
       "15        638.505132\n",
       "16       1485.501735\n",
       "17       1863.392527\n",
       "18       1316.102414\n",
       "19       1350.850993\n",
       "20       1385.599571\n",
       "21        925.180905\n",
       "22        668.910138\n",
       "23       1628.839621\n",
       "24       1459.440301\n",
       "25       1263.979546\n",
       "26       1489.845307\n",
       "27        555.977257\n",
       "28       1741.772502\n",
       "29        951.242339\n",
       "            ...     \n",
       "14468    1485.501735\n",
       "14469    1837.331093\n",
       "14470    1515.906741\n",
       "14471    1372.568854\n",
       "14472    1350.850993\n",
       "14473    1754.803219\n",
       "14474    1072.862364\n",
       "14475    1259.635974\n",
       "14476     894.775899\n",
       "14477     616.787270\n",
       "14478    1090.236653\n",
       "14479    1481.158162\n",
       "14480     855.683748\n",
       "14481     933.868050\n",
       "14482    1937.233256\n",
       "14483    1459.440301\n",
       "14484    1698.336778\n",
       "14485    1346.507420\n",
       "14486     686.284427\n",
       "14487    1798.238942\n",
       "14488     790.530163\n",
       "14489    1494.188879\n",
       "14490    1433.378867\n",
       "14491    1802.582514\n",
       "14492    1346.507420\n",
       "14493    1811.269659\n",
       "14494     864.370892\n",
       "14495     699.315144\n",
       "14496     755.781584\n",
       "14497     547.290113\n",
       "Name: Diuresis, Length: 14498, dtype: float64"
      ]
     },
     "execution_count": 68,
     "metadata": {},
     "output_type": "execute_result"
    }
   ],
   "source": [
    "test[\"Diuresis\"]"
   ]
  },
  {
   "cell_type": "code",
   "execution_count": null,
   "metadata": {},
   "outputs": [],
   "source": [
    "# shift train predictions for plotting\n",
    "trainPredictPlot = numpy.empty_like(dataset)\n",
    "trainPredictPlot[:, :] = numpy.nan\n",
    "trainPredictPlot[look_back:len(trainPredict)+look_back, :] = trainPredict\n",
    "# shift test predictions for plotting\n",
    "testPredictPlot = numpy.empty_like(dataset)\n",
    "testPredictPlot[:, :] = numpy.nan\n",
    "testPredictPlot[len(trainPredict)+(look_back*2)+1:len(dataset)-1, :] = testPredict\n",
    "# plot baseline and predictions\n",
    "plt.plot(scaler.inverse_transform(dataset))\n",
    "plt.plot(trainPredictPlot)\n",
    "plt.plot(testPredictPlot)\n",
    "plt.show()"
   ]
  },
  {
   "cell_type": "code",
   "execution_count": null,
   "metadata": {},
   "outputs": [],
   "source": [
    "import numpy\n",
    "import matplotlib.pyplot as plt\n",
    "from pandas import read_csv\n",
    "import math\n",
    "from keras.models import Sequential\n",
    "from keras.layers import Dense\n",
    "from keras.layers import LSTM\n",
    "from sklearn.preprocessing import MinMaxScaler\n",
    "from sklearn.metrics import mean_squared_error\n",
    "# convert an array of values into a dataset matrix\n",
    "def create_dataset(dataset, look_back=1):\n",
    "\tdataX, dataY = [], []\n",
    "\tfor i in range(len(dataset)-look_back-1):\n",
    "\t\ta = dataset[i:(i+look_back), 0]\n",
    "\t\tdataX.append(a)\n",
    "\t\tdataY.append(dataset[i + look_back, 0])\n",
    "\treturn numpy.array(dataX), numpy.array(dataY)\n",
    "# fix random seed for reproducibility\n",
    "numpy.random.seed(7)\n",
    "# load the dataset\n",
    "dataframe = read_csv('airline-passengers.csv', usecols=[1], engine='python')\n",
    "dataset = dataframe.values\n",
    "dataset = dataset.astype('float32')\n",
    "# normalize the dataset\n",
    "scaler = MinMaxScaler(feature_range=(0, 1))\n",
    "dataset = scaler.fit_transform(dataset)\n",
    "# split into train and test sets\n",
    "train_size = int(len(dataset) * 0.67)\n",
    "test_size = len(dataset) - train_size\n",
    "train, test = dataset[0:train_size,:], dataset[train_size:len(dataset),:]\n",
    "# reshape into X=t and Y=t+1\n",
    "look_back = 1\n",
    "trainX, trainY = create_dataset(train, look_back)\n",
    "testX, testY = create_dataset(test, look_back)\n",
    "# reshape input to be [samples, time steps, features]\n",
    "trainX = numpy.reshape(trainX, (trainX.shape[0], 1, trainX.shape[1]))\n",
    "testX = numpy.reshape(testX, (testX.shape[0], 1, testX.shape[1]))\n",
    "# create and fit the LSTM network\n",
    "model = Sequential()\n",
    "model.add(LSTM(4, input_shape=(1, look_back)))\n",
    "model.add(Dense(1))\n",
    "model.compile(loss='mean_squared_error', optimizer='adam')\n",
    "model.fit(trainX, trainY, epochs=100, batch_size=1, verbose=2)\n",
    "# make predictions\n",
    "trainPredict = model.predict(trainX)\n",
    "testPredict = model.predict(testX)\n",
    "# invert predictions\n",
    "trainPredict = scaler.inverse_transform(trainPredict)\n",
    "trainY = scaler.inverse_transform([trainY])\n",
    "testPredict = scaler.inverse_transform(testPredict)\n",
    "testY = scaler.inverse_transform([testY])\n",
    "# calculate root mean squared error\n",
    "trainScore = math.sqrt(mean_squared_error(trainY[0], trainPredict[:,0]))\n",
    "print('Train Score: %.2f RMSE' % (trainScore))\n",
    "testScore = math.sqrt(mean_squared_error(testY[0], testPredict[:,0]))\n",
    "print('Test Score: %.2f RMSE' % (testScore))\n",
    "# shift train predictions for plotting\n",
    "trainPredictPlot = numpy.empty_like(dataset)\n",
    "trainPredictPlot[:, :] = numpy.nan\n",
    "trainPredictPlot[look_back:len(trainPredict)+look_back, :] = trainPredict\n",
    "# shift test predictions for plotting\n",
    "testPredictPlot = numpy.empty_like(dataset)\n",
    "testPredictPlot[:, :] = numpy.nan\n",
    "testPredictPlot[len(trainPredict)+(look_back*2)+1:len(dataset)-1, :] = testPredict\n",
    "# plot baseline and predictions\n",
    "plt.plot(scaler.inverse_transform(dataset))\n",
    "plt.plot(trainPredictPlot)\n",
    "plt.plot(testPredictPlot)\n",
    "plt.show()"
   ]
  }
 ],
 "metadata": {
  "kernelspec": {
   "display_name": "Python 3",
   "language": "python",
   "name": "python3"
  },
  "language_info": {
   "codemirror_mode": {
    "name": "ipython",
    "version": 3
   },
   "file_extension": ".py",
   "mimetype": "text/x-python",
   "name": "python",
   "nbconvert_exporter": "python",
   "pygments_lexer": "ipython3",
   "version": "3.6.7"
  }
 },
 "nbformat": 4,
 "nbformat_minor": 2
}
